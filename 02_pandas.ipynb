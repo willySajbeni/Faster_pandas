{
 "cells": [
  {
   "cell_type": "code",
   "execution_count": 49,
   "metadata": {},
   "outputs": [],
   "source": [
    "import re\n",
    "import nltk\n",
    "import string\n",
    "import pandas as pd"
   ]
  },
  {
   "cell_type": "code",
   "execution_count": 50,
   "metadata": {},
   "outputs": [],
   "source": [
    "# create an object of Stemmer\n",
    "ps = nltk.PorterStemmer()\n",
    "stopword = nltk.corpus.stopwords.words('english')\n"
   ]
  },
  {
   "cell_type": "code",
   "execution_count": 51,
   "metadata": {},
   "outputs": [],
   "source": [
    "# create function to, take off punctuation,tokenizer, stem, stopword, and construct msg again.\n",
    "def clen_text(text):\n",
    "    \"\"\"Return Clen text\"\"\"\n",
    "    text = ''.join([text for text in text if text not in string.punctuation])\n",
    "    tokenize = re.split('\\W+',text)\n",
    "    text = ' '.join([ps.stem(text) for text in tokenize if text not in stopword])\n",
    "    return text.lower()"
   ]
  },
  {
   "cell_type": "code",
   "execution_count": 52,
   "metadata": {},
   "outputs": [
    {
     "data": {
      "text/plain": [
       "'the 60th year competit bell beach climax australian domin ethan ewe rang maiden bell fellow australian ryan callinan tyler wright chase back back bell beach titl end domin glori world no 1 picklum the championship tour prepar head wild west margaret river pro decid final mid season cut heartbreak elat '"
      ]
     },
     "execution_count": 52,
     "metadata": {},
     "output_type": "execute_result"
    }
   ],
   "source": [
    "word = [\"The 60th year of competition at Bells Beach climaxed with Australian domination. Ethan Ewing rang his maiden bell over fellow Australian Ryan Callinan before Tyler Wright's chase for back-to-back Bells Beach titles ended in dominant glory over World No. 1 Picklum. The Championship Tour now prepares to head to the wild west for the Margaret River Pro to decide final Mid-Season Cut heartbreak and elation.\"]\n",
    "clen_text(word)"
   ]
  },
  {
   "cell_type": "code",
   "execution_count": 53,
   "metadata": {},
   "outputs": [
    {
     "name": "stdout",
     "output_type": "stream",
     "text": [
      " "
     ]
    },
    {
     "name": "stdout",
     "output_type": "stream",
     "text": [
      "         4122 function calls (4121 primitive calls) in 0.001 seconds\n",
      "\n",
      "   Ordered by: internal time\n",
      "\n",
      "   ncalls  tottime  percall  cumtime  percall filename:lineno(function)\n",
      "      291    0.000    0.000    0.001    0.000 porter.py:248(_apply_rule_list)\n",
      "     2878    0.000    0.000    0.000    0.000 {method 'endswith' of 'str' objects}\n",
      "       51    0.000    0.000    0.001    0.000 porter.py:654(stem)\n",
      "        1    0.000    0.000    0.001    0.001 3879544135.py:6(<listcomp>)\n",
      "       48    0.000    0.000    0.000    0.000 porter.py:435(_step2)\n",
      "       48    0.000    0.000    0.000    0.000 porter.py:543(_step4)\n",
      "       48    0.000    0.000    0.000    0.000 porter.py:515(_step3)\n",
      "       48    0.000    0.000    0.000    0.000 porter.py:303(_step1b)\n",
      "       28    0.000    0.000    0.000    0.000 porter.py:147(_measure)\n",
      "        1    0.000    0.000    0.001    0.001 {built-in method builtins.exec}\n",
      "       48    0.000    0.000    0.000    0.000 porter.py:387(_step1c)\n",
      "       48    0.000    0.000    0.000    0.000 porter.py:276(_step1a)\n",
      "  115/114    0.000    0.000    0.000    0.000 porter.py:126(_is_consonant)\n",
      "        1    0.000    0.000    0.000    0.000 {method 'split' of 're.Pattern' objects}\n",
      "       48    0.000    0.000    0.000    0.000 porter.py:639(_step5b)\n",
      "       48    0.000    0.000    0.000    0.000 porter.py:603(_step5a)\n",
      "       31    0.000    0.000    0.000    0.000 porter.py:240(_replace_suffix)\n",
      "      129    0.000    0.000    0.000    0.000 {built-in method builtins.len}\n",
      "        1    0.000    0.000    0.001    0.001 3879544135.py:2(clen_text)\n",
      "       96    0.000    0.000    0.000    0.000 {method 'append' of 'list' objects}\n",
      "       52    0.000    0.000    0.000    0.000 {method 'lower' of 'str' objects}\n",
      "       28    0.000    0.000    0.000    0.000 {method 'count' of 'str' objects}\n",
      "        5    0.000    0.000    0.000    0.000 porter.py:219(_ends_cvc)\n",
      "        3    0.000    0.000    0.000    0.000 porter.py:201(_contains_vowel)\n",
      "        1    0.000    0.000    0.000    0.000 re.py:289(_compile)\n",
      "        6    0.000    0.000    0.000    0.000 porter.py:571(<lambda>)\n",
      "        2    0.000    0.000    0.000    0.000 {method 'join' of 'str' objects}\n",
      "        1    0.000    0.000    0.000    0.000 re.py:223(split)\n",
      "        1    0.000    0.000    0.001    0.001 <string>:1(<module>)\n",
      "        3    0.000    0.000    0.000    0.000 porter.py:208(_ends_double_consonant)\n",
      "        3    0.000    0.000    0.000    0.000 porter.py:382(<lambda>)\n",
      "        3    0.000    0.000    0.000    0.000 porter.py:651(<lambda>)\n",
      "        1    0.000    0.000    0.000    0.000 3879544135.py:4(<listcomp>)\n",
      "        1    0.000    0.000    0.000    0.000 porter.py:398(nltk_condition)\n",
      "        1    0.000    0.000    0.000    0.000 {built-in method builtins.isinstance}\n",
      "        1    0.000    0.000    0.000    0.000 porter.py:591(<lambda>)\n",
      "        2    0.000    0.000    0.000    0.000 porter.py:198(_has_positive_measure)\n",
      "        1    0.000    0.000    0.000    0.000 {method 'disable' of '_lsprof.Profiler' objects}"
     ]
    }
   ],
   "source": [
    "%prun clen_text(word)"
   ]
  },
  {
   "cell_type": "code",
   "execution_count": 54,
   "metadata": {},
   "outputs": [],
   "source": [
    "# Difference between Pandas vectorization and a normal loop\n",
    "s = pd.Series(range(10_000))\n"
   ]
  },
  {
   "cell_type": "code",
   "execution_count": 55,
   "metadata": {},
   "outputs": [],
   "source": [
    "# Difference between Pandas vectorization and a normal loop\n",
    "def loop ():\n",
    "    total = 0\n",
    "    for val in s:\n",
    "        total += val"
   ]
  },
  {
   "cell_type": "code",
   "execution_count": 56,
   "metadata": {},
   "outputs": [
    {
     "name": "stdout",
     "output_type": "stream",
     "text": [
      "24.8 µs ± 102 ns per loop (mean ± std. dev. of 7 runs, 10,000 loops each)\n",
      "1.01 ms ± 23.5 µs per loop (mean ± std. dev. of 7 runs, 1,000 loops each)\n"
     ]
    }
   ],
   "source": [
    "# Difference between Pandas vectorization and a normal loop\n",
    "%timeit s.sum()\n",
    "%timeit loop()"
   ]
  }
 ],
 "metadata": {
  "kernelspec": {
   "display_name": "Python 3",
   "language": "python",
   "name": "python3"
  },
  "language_info": {
   "codemirror_mode": {
    "name": "ipython",
    "version": 3
   },
   "file_extension": ".py",
   "mimetype": "text/x-python",
   "name": "python",
   "nbconvert_exporter": "python",
   "pygments_lexer": "ipython3",
   "version": "3.9.0"
  },
  "orig_nbformat": 4
 },
 "nbformat": 4,
 "nbformat_minor": 2
}
