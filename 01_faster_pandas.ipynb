{
 "cells": [
  {
   "cell_type": "code",
   "execution_count": 56,
   "metadata": {},
   "outputs": [],
   "source": [
    "import pandas as pd \n",
    "import numpy as np\n",
    "import pytest\n",
    "import ipytest \n",
    "ipytest.autoconfig()"
   ]
  },
  {
   "cell_type": "code",
   "execution_count": 57,
   "metadata": {},
   "outputs": [
    {
     "data": {
      "text/html": [
       "<div>\n",
       "<style scoped>\n",
       "    .dataframe tbody tr th:only-of-type {\n",
       "        vertical-align: middle;\n",
       "    }\n",
       "\n",
       "    .dataframe tbody tr th {\n",
       "        vertical-align: top;\n",
       "    }\n",
       "\n",
       "    .dataframe thead th {\n",
       "        text-align: right;\n",
       "    }\n",
       "</style>\n",
       "<table border=\"1\" class=\"dataframe\">\n",
       "  <thead>\n",
       "    <tr style=\"text-align: right;\">\n",
       "      <th></th>\n",
       "      <th>Unnamed: 0</th>\n",
       "      <th>value</th>\n",
       "      <th>value.1</th>\n",
       "      <th>value.2</th>\n",
       "      <th>value.3</th>\n",
       "      <th>value.4</th>\n",
       "      <th>value.5</th>\n",
       "      <th>value.6</th>\n",
       "      <th>value.7</th>\n",
       "      <th>value.8</th>\n",
       "      <th>...</th>\n",
       "      <th>value.24</th>\n",
       "      <th>value.25</th>\n",
       "      <th>value.26</th>\n",
       "      <th>value.27</th>\n",
       "      <th>value.28</th>\n",
       "      <th>value.29</th>\n",
       "      <th>value.30</th>\n",
       "      <th>value.31</th>\n",
       "      <th>value.32</th>\n",
       "      <th>value.33</th>\n",
       "    </tr>\n",
       "  </thead>\n",
       "  <tbody>\n",
       "    <tr>\n",
       "      <th>0</th>\n",
       "      <td>movie_id</td>\n",
       "      <td>1.000000</td>\n",
       "      <td>2.000000</td>\n",
       "      <td>3.000000</td>\n",
       "      <td>4.000000</td>\n",
       "      <td>5.000000</td>\n",
       "      <td>6.00000</td>\n",
       "      <td>7.00000</td>\n",
       "      <td>8.00000</td>\n",
       "      <td>9.000000</td>\n",
       "      <td>...</td>\n",
       "      <td>25.000000</td>\n",
       "      <td>26.000000</td>\n",
       "      <td>27.000000</td>\n",
       "      <td>28.000000</td>\n",
       "      <td>29.000000</td>\n",
       "      <td>30.000000</td>\n",
       "      <td>31.000000</td>\n",
       "      <td>32.000000</td>\n",
       "      <td>33.000000</td>\n",
       "      <td>34.000000</td>\n",
       "    </tr>\n",
       "    <tr>\n",
       "      <th>1</th>\n",
       "      <td>user_id</td>\n",
       "      <td>NaN</td>\n",
       "      <td>NaN</td>\n",
       "      <td>NaN</td>\n",
       "      <td>NaN</td>\n",
       "      <td>NaN</td>\n",
       "      <td>NaN</td>\n",
       "      <td>NaN</td>\n",
       "      <td>NaN</td>\n",
       "      <td>NaN</td>\n",
       "      <td>...</td>\n",
       "      <td>NaN</td>\n",
       "      <td>NaN</td>\n",
       "      <td>NaN</td>\n",
       "      <td>NaN</td>\n",
       "      <td>NaN</td>\n",
       "      <td>NaN</td>\n",
       "      <td>NaN</td>\n",
       "      <td>NaN</td>\n",
       "      <td>NaN</td>\n",
       "      <td>NaN</td>\n",
       "    </tr>\n",
       "    <tr>\n",
       "      <th>2</th>\n",
       "      <td>1</td>\n",
       "      <td>4.003192</td>\n",
       "      <td>3.920304</td>\n",
       "      <td>4.155777</td>\n",
       "      <td>3.527676</td>\n",
       "      <td>3.920494</td>\n",
       "      <td>4.14339</td>\n",
       "      <td>2.65563</td>\n",
       "      <td>4.06705</td>\n",
       "      <td>4.010433</td>\n",
       "      <td>...</td>\n",
       "      <td>3.797145</td>\n",
       "      <td>3.984571</td>\n",
       "      <td>3.331073</td>\n",
       "      <td>3.990534</td>\n",
       "      <td>3.457581</td>\n",
       "      <td>3.104856</td>\n",
       "      <td>2.720677</td>\n",
       "      <td>3.352794</td>\n",
       "      <td>3.042513</td>\n",
       "      <td>4.565993</td>\n",
       "    </tr>\n",
       "  </tbody>\n",
       "</table>\n",
       "<p>3 rows × 35 columns</p>\n",
       "</div>"
      ],
      "text/plain": [
       "  Unnamed: 0     value   value.1   value.2   value.3   value.4  value.5  \\\n",
       "0   movie_id  1.000000  2.000000  3.000000  4.000000  5.000000  6.00000   \n",
       "1    user_id       NaN       NaN       NaN       NaN       NaN      NaN   \n",
       "2          1  4.003192  3.920304  4.155777  3.527676  3.920494  4.14339   \n",
       "\n",
       "   value.6  value.7   value.8  ...   value.24   value.25   value.26  \\\n",
       "0  7.00000  8.00000  9.000000  ...  25.000000  26.000000  27.000000   \n",
       "1      NaN      NaN       NaN  ...        NaN        NaN        NaN   \n",
       "2  2.65563  4.06705  4.010433  ...   3.797145   3.984571   3.331073   \n",
       "\n",
       "    value.27   value.28   value.29   value.30   value.31   value.32   value.33  \n",
       "0  28.000000  29.000000  30.000000  31.000000  32.000000  33.000000  34.000000  \n",
       "1        NaN        NaN        NaN        NaN        NaN        NaN        NaN  \n",
       "2   3.990534   3.457581   3.104856   2.720677   3.352794   3.042513   4.565993  \n",
       "\n",
       "[3 rows x 35 columns]"
      ]
     },
     "execution_count": 57,
     "metadata": {},
     "output_type": "execute_result"
    }
   ],
   "source": [
    "# created data\n",
    "data = pd.read_csv('predicted_ratings.csv')\n",
    "data.head(3)"
   ]
  },
  {
   "cell_type": "code",
   "execution_count": 58,
   "metadata": {},
   "outputs": [],
   "source": [
    "def find_outliers(data):\n",
    "    \"\"\"Find Outliers in data, retur indices of outiliers\"\"\"\n",
    "    out = data[(data - data.mean()).abs() > 2 * data.std()]\n",
    "    return out.index"
   ]
  },
  {
   "cell_type": "code",
   "execution_count": 59,
   "metadata": {},
   "outputs": [
    {
     "name": "stderr",
     "output_type": "stream",
     "text": [
      "/var/folders/5v/6sdcd_ln4fxb_wj2944sknw00000gn/T/ipykernel_76217/314043693.py:3: FutureWarning: The default value of numeric_only in DataFrame.mean is deprecated. In a future version, it will default to False. In addition, specifying 'numeric_only=None' is deprecated. Select only valid columns or specify the value of numeric_only to silence this warning.\n",
      "  out = data[(data - data.mean()).abs() > 2 * data.std()]\n",
      "/var/folders/5v/6sdcd_ln4fxb_wj2944sknw00000gn/T/ipykernel_76217/314043693.py:3: FutureWarning: The default value of numeric_only in DataFrame.std is deprecated. In a future version, it will default to False. In addition, specifying 'numeric_only=None' is deprecated. Select only valid columns or specify the value of numeric_only to silence this warning.\n",
      "  out = data[(data - data.mean()).abs() > 2 * data.std()]\n",
      "/var/folders/5v/6sdcd_ln4fxb_wj2944sknw00000gn/T/ipykernel_76217/314043693.py:3: FutureWarning: Automatic reindexing on DataFrame vs Series comparisons is deprecated and will raise ValueError in a future version. Do `left, right = left.align(right, axis=1, copy=False)` before e.g. `left == right`\n",
      "  out = data[(data - data.mean()).abs() > 2 * data.std()]\n"
     ]
    },
    {
     "data": {
      "text/plain": [
       "RangeIndex(start=0, stop=102, step=1)"
      ]
     },
     "execution_count": 59,
     "metadata": {},
     "output_type": "execute_result"
    }
   ],
   "source": [
    "find_outliers(data=data)"
   ]
  },
  {
   "cell_type": "code",
   "execution_count": 60,
   "metadata": {},
   "outputs": [],
   "source": [
    "# created a new data.\n",
    "data2 = pd.Series(np.random.randint(50, 60, 10_000))"
   ]
  },
  {
   "cell_type": "code",
   "execution_count": 61,
   "metadata": {},
   "outputs": [],
   "source": [
    "# creating outliers\n",
    "data2[7] = 3\n",
    "data2[1003] = 100"
   ]
  },
  {
   "cell_type": "code",
   "execution_count": 62,
   "metadata": {},
   "outputs": [
    {
     "name": "stderr",
     "output_type": "stream",
     "text": [
      "/var/folders/5v/6sdcd_ln4fxb_wj2944sknw00000gn/T/ipykernel_76217/314043693.py:3: FutureWarning: The default value of numeric_only in DataFrame.mean is deprecated. In a future version, it will default to False. In addition, specifying 'numeric_only=None' is deprecated. Select only valid columns or specify the value of numeric_only to silence this warning.\n",
      "  out = data[(data - data.mean()).abs() > 2 * data.std()]\n",
      "/var/folders/5v/6sdcd_ln4fxb_wj2944sknw00000gn/T/ipykernel_76217/314043693.py:3: FutureWarning: The default value of numeric_only in DataFrame.std is deprecated. In a future version, it will default to False. In addition, specifying 'numeric_only=None' is deprecated. Select only valid columns or specify the value of numeric_only to silence this warning.\n",
      "  out = data[(data - data.mean()).abs() > 2 * data.std()]\n",
      "/var/folders/5v/6sdcd_ln4fxb_wj2944sknw00000gn/T/ipykernel_76217/314043693.py:3: FutureWarning: Automatic reindexing on DataFrame vs Series comparisons is deprecated and will raise ValueError in a future version. Do `left, right = left.align(right, axis=1, copy=False)` before e.g. `left == right`\n",
      "  out = data[(data - data.mean()).abs() > 2 * data.std()]\n"
     ]
    },
    {
     "name": "stdout",
     "output_type": "stream",
     "text": [
      "2.17 ms ± 53.8 µs per loop (mean ± std. dev. of 7 runs, 100 loops each)\n"
     ]
    }
   ],
   "source": [
    "# Using the function and check the time\n",
    "%timeit find_outliers(data)"
   ]
  },
  {
   "cell_type": "code",
   "execution_count": 63,
   "metadata": {},
   "outputs": [
    {
     "name": "stdout",
     "output_type": "stream",
     "text": [
      "279 µs ± 1.73 µs per loop (mean ± std. dev. of 7 runs, 1,000 loops each)\n"
     ]
    }
   ],
   "source": [
    "#check the time\n",
    "%timeit find_outliers(data2)"
   ]
  },
  {
   "cell_type": "code",
   "execution_count": 64,
   "metadata": {},
   "outputs": [],
   "source": [
    "# generate data and the outliers\n",
    "def gen_data(size, num_outliers):\n",
    "    \"\"\"Generate data in with size element containint num_outliers outliers.\n",
    "    Return the data and the outliers\"\"\"\n",
    "    regular  = np.random.randint(50, 60, size-num_outliers)\n",
    "    low = np.random.randint(1, 10, num_outliers//2)\n",
    "    high = np.random.randint(100, 110, num_outliers-len(low))\n",
    "\n",
    "    data = np.concatenate([regular,low, high])\n",
    "    np.random.shuffle(data)\n",
    "    return pd.Series(data), pd.Series(np.concatenate([low,high]))"
   ]
  },
  {
   "cell_type": "code",
   "execution_count": 65,
   "metadata": {},
   "outputs": [
    {
     "data": {
      "text/plain": [
       "(0    103\n",
       " 1      7\n",
       " dtype: int64,\n",
       " 0      7\n",
       " 1    103\n",
       " dtype: int64)"
      ]
     },
     "execution_count": 65,
     "metadata": {},
     "output_type": "execute_result"
    }
   ],
   "source": [
    "gen_data(2, 2)"
   ]
  },
  {
   "cell_type": "code",
   "execution_count": 66,
   "metadata": {},
   "outputs": [],
   "source": [
    "def test_bench_outliers(benchmark):\n",
    "    size = 10_000 # Usual size of data\n",
    "    num_outliers = 5 # Usual number of outliers\n",
    "    data, expected = gen_data(size=size, num_outliers=num_outliers)\n",
    "    indices = benchmark(find_outliers, data2)\n",
    "    outliers = data.loc[indices]\n",
    "    assert set(expected) == set(outliers), 'bad results'"
   ]
  }
 ],
 "metadata": {
  "kernelspec": {
   "display_name": "Python 3",
   "language": "python",
   "name": "python3"
  },
  "language_info": {
   "codemirror_mode": {
    "name": "ipython",
    "version": 3
   },
   "file_extension": ".py",
   "mimetype": "text/x-python",
   "name": "python",
   "nbconvert_exporter": "python",
   "pygments_lexer": "ipython3",
   "version": "3.9.0"
  },
  "orig_nbformat": 4
 },
 "nbformat": 4,
 "nbformat_minor": 2
}
